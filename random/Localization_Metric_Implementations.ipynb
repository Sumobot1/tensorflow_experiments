{
 "cells": [
  {
   "cell_type": "markdown",
   "metadata": {},
   "source": [
    "# Localization - Create Inputs and Outputs"
   ]
  },
  {
   "cell_type": "code",
   "execution_count": 1,
   "metadata": {},
   "outputs": [],
   "source": [
    "import numpy as np\n",
    "from PIL import Image\n",
    "import tensorflow as tf\n",
    "import keras.backend as K\n",
    "import matplotlib.pyplot as plt\n",
    "import matplotlib.patches as patches"
   ]
  },
  {
   "cell_type": "code",
   "execution_count": 52,
   "metadata": {},
   "outputs": [],
   "source": [
    "def tprint(*tensors):\n",
    "    sess = K.get_session()\n",
    "    for tensor in tensors:\n",
    "        print(tensor.eval(session=sess))\n",
    "        print()"
   ]
  },
  {
   "cell_type": "code",
   "execution_count": 2,
   "metadata": {},
   "outputs": [
    {
     "data": {
      "image/png": "[encoded data removed]",
      "text/plain": [
       "<Figure size 432x288 with 1 Axes>"
      ]
     },
     "metadata": {
      "needs_background": "light"
     },
     "output_type": "display_data"
    }
   ],
   "source": [
    "imwidth = 200\n",
    "imheight = 175\n",
    "im = np.ones((500, 500))\n",
    "\n",
    "# Create figure and axes\n",
    "fig,ax = plt.subplots(1)\n",
    "\n",
    "# Display the image\n",
    "ax.imshow(im)\n",
    "\n",
    "# Create a Rectangle patch\n",
    "gt1 = patches.Rectangle(xy=(0,0),\n",
    "                         width=imwidth, height=imheight,\n",
    "                         linewidth=1,edgecolor='r',facecolor='none')\n",
    "# Create a Rectangle patch\n",
    "pred1 = patches.Rectangle(xy=(20,40),\n",
    "                         width=imwidth, height=imheight,\n",
    "                         linewidth=1,edgecolor='g',facecolor='none')\n",
    "# Create a Rectangle patch\n",
    "gt2 = patches.Rectangle(xy=(250,220),\n",
    "                         width=imwidth, height=imheight,\n",
    "                         linewidth=1,edgecolor='r',facecolor='none')\n",
    "# Create a Rectangle patch\n",
    "pred2 = patches.Rectangle(xy=(270,220),\n",
    "                         width=imwidth, height=imheight,\n",
    "                         linewidth=1,edgecolor='g',facecolor='none')\n",
    "\n",
    "# Add the patch to the Axes\n",
    "ax.add_patch(gt1)\n",
    "ax.add_patch(pred1)\n",
    "ax.add_patch(gt2)\n",
    "ax.add_patch(pred2)\n",
    "\n",
    "plt.show()"
   ]
  },
  {
   "cell_type": "code",
   "execution_count": 3,
   "metadata": {},
   "outputs": [],
   "source": [
    "def get_corners(rect):\n",
    "    return [rect.get_x(), rect.get_y(), rect.get_x() + rect.get_width(), rect.get_y() + rect.get_height()]"
   ]
  },
  {
   "cell_type": "code",
   "execution_count": 4,
   "metadata": {},
   "outputs": [
    {
     "name": "stdout",
     "output_type": "stream",
     "text": [
      "Preds:  [[20, 40, 220, 215], [270, 220, 470, 395]] GTs:  [[0, 0, 200, 175], [250, 220, 450, 395]]\n"
     ]
    }
   ],
   "source": [
    "preds = [get_corners(pred1), get_corners(pred2)]\n",
    "gts = [get_corners(gt1), get_corners(gt2)]\n",
    "print(\"Preds: \", preds, \"GTs: \", gts)"
   ]
  },
  {
   "cell_type": "code",
   "execution_count": 50,
   "metadata": {},
   "outputs": [
    {
     "name": "stdout",
     "output_type": "stream",
     "text": [
      "Pred Tensor:  Tensor(\"Cast_4:0\", shape=(2, 4), dtype=float32) GT Tensor:  Tensor(\"Cast_5:0\", shape=(2, 4), dtype=float32)\n"
     ]
    }
   ],
   "source": [
    "sess = K.get_session()\n",
    "pred_tensor = tf.cast(tf.convert_to_tensor(preds), tf.float32)\n",
    "gt_tensor = tf.cast(tf.convert_to_tensor(gts), tf.float32)\n",
    "print(\"Pred Tensor: \", pred_tensor, \"GT Tensor: \", gt_tensor)"
   ]
  },
  {
   "cell_type": "markdown",
   "metadata": {},
   "source": [
    "## IOU"
   ]
  },
  {
   "cell_type": "code",
   "execution_count": 51,
   "metadata": {},
   "outputs": [
    {
     "name": "stdout",
     "output_type": "stream",
     "text": [
      "[20, 40, 220, 215] [0, 0, 200, 175]\n"
     ]
    },
    {
     "data": {
      "text/plain": [
       "0.5317286652078774"
      ]
     },
     "execution_count": 51,
     "metadata": {},
     "output_type": "execute_result"
    }
   ],
   "source": [
    "def bbox_iou(x1_1, y1_1, x1_2, y1_2, \n",
    "             x2_1, y2_1, x2_2, y2_2):\n",
    "    x_in_1 = max(x1_1, x2_1)\n",
    "    y_in_1 = max(y1_1, y2_1)\n",
    "    x_in_2 = min(x1_2, x2_2)\n",
    "    y_in_2 = min(y1_2, y2_2)\n",
    "    intersection = max(abs(x_in_2 - x_in_1), 0) * max(abs(y_in_2 - y_in_1), 0)\n",
    "    union = (x1_2 - x1_1)*(y1_2 - y1_1) + (x2_2 - x2_1)*(y2_2 - y2_1) - intersection\n",
    "    return intersection/union\n",
    "pred = preds[0]\n",
    "gt = gts[0]\n",
    "print(pred, gt)\n",
    "bbox_iou(pred[0], pred[1], pred[2], pred[3], gt[0], gt[1], gt[2], gt[3])"
   ]
  },
  {
   "cell_type": "code",
   "execution_count": 53,
   "metadata": {},
   "outputs": [],
   "source": [
    "def tensor_area(min_x, min_y, max_x, max_y):\n",
    "     return tf.multiply(tf.abs(tf.subtract(max_x, min_x)), \n",
    "                        tf.abs(tf.subtract(max_y, min_y)))"
   ]
  },
  {
   "cell_type": "code",
   "execution_count": 54,
   "metadata": {},
   "outputs": [
    {
     "name": "stdout",
     "output_type": "stream",
     "text": [
      "[[0.5317287]\n",
      " [0.8181818]]\n",
      "\n"
     ]
    }
   ],
   "source": [
    "def tf_iou(pred_tensor, gt_tensor):\n",
    "    # Split up input tensors to get desired points\n",
    "    min_x_pred, min_y_pred, max_x_pred, max_y_pred = tf.split(pred_tensor, pred_tensor.get_shape()[1], axis=1)\n",
    "    min_x_true, min_y_true, max_x_true, max_y_true = tf.split(gt_tensor, gt_tensor.get_shape()[1], axis=1)\n",
    "    # Compute Intersection points\n",
    "    min_x_inter = tf.maximum(min_x_pred, min_x_true)\n",
    "    min_y_inter = tf.maximum(min_y_pred, min_y_true)\n",
    "    max_x_inter = tf.minimum(max_x_pred, max_x_true)\n",
    "    max_y_inter = tf.minimum(max_y_pred, max_y_true)\n",
    "    # Compute intersection and union areas\n",
    "    inter_area = tensor_area(min_x_inter, min_y_inter, max_x_inter, max_y_inter)\n",
    "    union_area = tensor_area(min_x_pred, min_y_pred, max_x_pred, max_y_pred) + tensor_area(min_x_true, min_y_true, max_x_true, max_y_true) - inter_area\n",
    "    # Return IOU\n",
    "    return tf.divide(inter_area, union_area)\n",
    "tprint(tf_iou(pred_tensor, gt_tensor))"
   ]
  },
  {
   "cell_type": "markdown",
   "metadata": {},
   "source": [
    "## Smooth L1 Loss\n",
    "The equation for smooth-L1 loss is as follows:\n",
    "$$\n",
    "\\begin{align}\n",
    "    smooth_{L1}(x) = \n",
    "    \\begin{cases}\n",
    "    0.5x^2 & |x| < 1 \\\\\n",
    "    |x|-0.5 & \\text{otherwise}\n",
    "    \\end{cases}\n",
    "    .\n",
    "\\end{align}\n",
    "$$\n",
    "- Smooth L1-loss combines the advantages of L1-loss and L2-loss:\n",
    "    - L1-loss: steady gradients for large values of x\n",
    "    - L2-loss: less oscillations during updates when x is small\n",
    "- Total localization loss function (for SSD at least) is calculated as follows:\n",
    "$$\n",
    "\\begin{align}\n",
    "    L_{loc}(gt, pred) = \\sum smooth_{L1}(gt, pred)\n",
    "\\end{align}\n",
    "$$\n",
    "- **Note:** SSD specifically does not use the 4 corners of the box (like we will below) - Instead it uses:\n",
    "    - (x, y) coordinates of the top-left of the box (min_x, min_y)\n",
    "    - logarithms of the height, and width\n",
    "    - This is the same as how Fast R-CNN does it"
   ]
  },
  {
   "cell_type": "code",
   "execution_count": 59,
   "metadata": {},
   "outputs": [
    {
     "name": "stdout",
     "output_type": "stream",
     "text": [
      "[[19.5 39.5 19.5 39.5]\n",
      " [19.5  0.  19.5  0. ]]\n",
      "\n"
     ]
    }
   ],
   "source": [
    "def tf_smooth_l1(pred_tensor, gt_tensor):\n",
    "    # Order here doesn't matter - the loss uses abs(x), and x^2\n",
    "    abs_dist = tf.abs(tf.subtract(pred_tensor, gt_tensor))\n",
    "    l1_loss = tf.subtract(abs_dist, 0.5)\n",
    "    l2_loss = tf.multiply(tf.square(abs_dist), 0.5)\n",
    "    return tf.where(tf.greater_equal(abs_dist, 1), l1_loss, l2_loss)\n",
    "tprint(tf_smooth_l1(pred_tensor, gt_tensor))"
   ]
  },
  {
   "cell_type": "code",
   "execution_count": null,
   "metadata": {},
   "outputs": [],
   "source": []
  },
  {
   "cell_type": "code",
   "execution_count": null,
   "metadata": {},
   "outputs": [],
   "source": []
  }
 ],
 "metadata": {
  "kernelspec": {
   "display_name": "Python 3.6.9 64-bit ('testenv': conda)",
   "language": "python",
   "name": "python36964bittestenvcondaf6339f9380704ce48a9431958b41228c"
  },
  "language_info": {
   "codemirror_mode": {
    "name": "ipython",
    "version": 3
   },
   "file_extension": ".py",
   "mimetype": "text/x-python",
   "name": "python",
   "nbconvert_exporter": "python",
   "pygments_lexer": "ipython3",
   "version": "3.6.9"
  }
 },
 "nbformat": 4,
 "nbformat_minor": 4
}
